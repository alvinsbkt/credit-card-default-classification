{
  "nbformat": 4,
  "nbformat_minor": 0,
  "metadata": {
    "kernelspec": {
      "display_name": "Python 3",
      "language": "python",
      "name": "python3"
    },
    "language_info": {
      "codemirror_mode": {
        "name": "ipython",
        "version": 3
      },
      "file_extension": ".py",
      "mimetype": "text/x-python",
      "name": "python",
      "nbconvert_exporter": "python",
      "pygments_lexer": "ipython3",
      "version": "3.7.4"
    },
    "colab": {
      "name": "Default Payment of Credit Card Data Classification using Random Forest, kNN, Neural Network,  CNN, and SVM.ipynb",
      "provenance": [],
      "collapsed_sections": [
        "5qND4kf6IKNi",
        "2gkv6WaOIa_c",
        "bJ-Ak7nbIyNK",
        "k8MUXJREI5jQ",
        "8UIcVr3rI_DI",
        "0AXoTsMOLbCN",
        "xHTXjzNvJZWj",
        "mZp8L9k5Jk4i",
        "AUCH6LqIJsPK",
        "qwtWtLzaJ4cS"
      ],
      "toc_visible": true,
      "include_colab_link": true
    }
  },
  "cells": [
    {
      "cell_type": "markdown",
      "metadata": {
        "id": "view-in-github",
        "colab_type": "text"
      },
      "source": [
        "<a href=\"https://colab.research.google.com/github/alvinsbkt/credit-card-default-classification/blob/main/Default_Payment_of_Credit_Card_Data_Classification.ipynb\" target=\"_parent\"><img src=\"https://colab.research.google.com/assets/colab-badge.svg\" alt=\"Open In Colab\"/></a>"
      ]
    },
    {
      "cell_type": "markdown",
      "metadata": {
        "id": "5qND4kf6IKNi"
      },
      "source": [
        "#Preparation (Import, Download Data)"
      ]
    },
    {
      "cell_type": "code",
      "metadata": {
        "id": "BcugIeUKHO3I",
        "outputId": "fa4405a5-8695-444f-9d11-a0760daa8a7b",
        "colab": {
          "base_uri": "https://localhost:8080/",
          "height": 73
        }
      },
      "source": [
        "import numpy as np\n",
        "import pandas as pd \n",
        "import seaborn as sns\n",
        "import matplotlib.pyplot as plt\n",
        "from sklearn import preprocessing\n",
        "from sklearn.model_selection import train_test_split, GridSearchCV, cross_val_score\n",
        "from sklearn.utils import resample\n",
        "from sklearn.ensemble import RandomForestClassifier\n",
        "import seaborn as sns\n",
        "from sklearn.metrics import f1_score,accuracy_score,classification_report,roc_auc_score, roc_curve\n",
        "from sklearn.tree import DecisionTreeClassifier\n",
        "import pandas as pd\n",
        "import numpy as np\n",
        "from sklearn.feature_selection import SelectKBest\n",
        "from sklearn.feature_selection import chi2\n",
        "from sklearn.preprocessing import StandardScaler"
      ],
      "execution_count": null,
      "outputs": [
        {
          "output_type": "stream",
          "text": [
            "/usr/local/lib/python3.6/dist-packages/statsmodels/tools/_testing.py:19: FutureWarning: pandas.util.testing is deprecated. Use the functions in the public API at pandas.testing instead.\n",
            "  import pandas.util.testing as tm\n"
          ],
          "name": "stderr"
        }
      ]
    },
    {
      "cell_type": "code",
      "metadata": {
        "id": "ppdY6FfnnsJT",
        "outputId": "85f00e4f-5a98-4634-9fc7-ea278f9b9022",
        "colab": {
          "base_uri": "https://localhost:8080/",
          "height": 275
        }
      },
      "source": [
        "df = pd.read_csv('/content/drive/My Drive/Default of Credit Card Clients_training.csv',index_col='ID')\n",
        "df = df.rename(columns={'default.payment.next.month': 'DEFAULT', 'PAY_0': 'PAY_1'})\n",
        "df.sort_values('ID').head(n=5)"
      ],
      "execution_count": null,
      "outputs": [
        {
          "output_type": "execute_result",
          "data": {
            "text/html": [
              "<div>\n",
              "<style scoped>\n",
              "    .dataframe tbody tr th:only-of-type {\n",
              "        vertical-align: middle;\n",
              "    }\n",
              "\n",
              "    .dataframe tbody tr th {\n",
              "        vertical-align: top;\n",
              "    }\n",
              "\n",
              "    .dataframe thead th {\n",
              "        text-align: right;\n",
              "    }\n",
              "</style>\n",
              "<table border=\"1\" class=\"dataframe\">\n",
              "  <thead>\n",
              "    <tr style=\"text-align: right;\">\n",
              "      <th></th>\n",
              "      <th>LIMIT_BAL</th>\n",
              "      <th>SEX</th>\n",
              "      <th>EDUCATION</th>\n",
              "      <th>MARRIAGE</th>\n",
              "      <th>AGE</th>\n",
              "      <th>PAY_1</th>\n",
              "      <th>PAY_2</th>\n",
              "      <th>PAY_3</th>\n",
              "      <th>PAY_4</th>\n",
              "      <th>PAY_5</th>\n",
              "      <th>PAY_6</th>\n",
              "      <th>BILL_AMT1</th>\n",
              "      <th>BILL_AMT2</th>\n",
              "      <th>BILL_AMT3</th>\n",
              "      <th>BILL_AMT4</th>\n",
              "      <th>BILL_AMT5</th>\n",
              "      <th>BILL_AMT6</th>\n",
              "      <th>PAY_AMT1</th>\n",
              "      <th>PAY_AMT2</th>\n",
              "      <th>PAY_AMT3</th>\n",
              "      <th>PAY_AMT4</th>\n",
              "      <th>PAY_AMT5</th>\n",
              "      <th>PAY_AMT6</th>\n",
              "      <th>DEFAULT</th>\n",
              "    </tr>\n",
              "    <tr>\n",
              "      <th>ID</th>\n",
              "      <th></th>\n",
              "      <th></th>\n",
              "      <th></th>\n",
              "      <th></th>\n",
              "      <th></th>\n",
              "      <th></th>\n",
              "      <th></th>\n",
              "      <th></th>\n",
              "      <th></th>\n",
              "      <th></th>\n",
              "      <th></th>\n",
              "      <th></th>\n",
              "      <th></th>\n",
              "      <th></th>\n",
              "      <th></th>\n",
              "      <th></th>\n",
              "      <th></th>\n",
              "      <th></th>\n",
              "      <th></th>\n",
              "      <th></th>\n",
              "      <th></th>\n",
              "      <th></th>\n",
              "      <th></th>\n",
              "      <th></th>\n",
              "    </tr>\n",
              "  </thead>\n",
              "  <tbody>\n",
              "    <tr>\n",
              "      <th>2</th>\n",
              "      <td>120000.0</td>\n",
              "      <td>FEMALE</td>\n",
              "      <td>UNIVERSITY</td>\n",
              "      <td>SINGLE</td>\n",
              "      <td>26</td>\n",
              "      <td>-1</td>\n",
              "      <td>2</td>\n",
              "      <td>0</td>\n",
              "      <td>0</td>\n",
              "      <td>0</td>\n",
              "      <td>2</td>\n",
              "      <td>2682.0</td>\n",
              "      <td>1725.0</td>\n",
              "      <td>2682.0</td>\n",
              "      <td>3272.0</td>\n",
              "      <td>3455.0</td>\n",
              "      <td>3261.0</td>\n",
              "      <td>0.0</td>\n",
              "      <td>1000.0</td>\n",
              "      <td>1000.0</td>\n",
              "      <td>1000.0</td>\n",
              "      <td>0.0</td>\n",
              "      <td>2000.0</td>\n",
              "      <td>1</td>\n",
              "    </tr>\n",
              "    <tr>\n",
              "      <th>3</th>\n",
              "      <td>90000.0</td>\n",
              "      <td>FEMALE</td>\n",
              "      <td>UNIVERSITY</td>\n",
              "      <td>SINGLE</td>\n",
              "      <td>34</td>\n",
              "      <td>0</td>\n",
              "      <td>0</td>\n",
              "      <td>0</td>\n",
              "      <td>0</td>\n",
              "      <td>0</td>\n",
              "      <td>0</td>\n",
              "      <td>29239.0</td>\n",
              "      <td>14027.0</td>\n",
              "      <td>13559.0</td>\n",
              "      <td>14331.0</td>\n",
              "      <td>14948.0</td>\n",
              "      <td>15549.0</td>\n",
              "      <td>1518.0</td>\n",
              "      <td>1500.0</td>\n",
              "      <td>1000.0</td>\n",
              "      <td>1000.0</td>\n",
              "      <td>1000.0</td>\n",
              "      <td>5000.0</td>\n",
              "      <td>0</td>\n",
              "    </tr>\n",
              "    <tr>\n",
              "      <th>4</th>\n",
              "      <td>50000.0</td>\n",
              "      <td>FEMALE</td>\n",
              "      <td>UNIVERSITY</td>\n",
              "      <td>MARRIED</td>\n",
              "      <td>37</td>\n",
              "      <td>0</td>\n",
              "      <td>0</td>\n",
              "      <td>0</td>\n",
              "      <td>0</td>\n",
              "      <td>0</td>\n",
              "      <td>0</td>\n",
              "      <td>46990.0</td>\n",
              "      <td>48233.0</td>\n",
              "      <td>49291.0</td>\n",
              "      <td>28314.0</td>\n",
              "      <td>28959.0</td>\n",
              "      <td>29547.0</td>\n",
              "      <td>2000.0</td>\n",
              "      <td>2019.0</td>\n",
              "      <td>1200.0</td>\n",
              "      <td>1100.0</td>\n",
              "      <td>1069.0</td>\n",
              "      <td>1000.0</td>\n",
              "      <td>0</td>\n",
              "    </tr>\n",
              "    <tr>\n",
              "      <th>5</th>\n",
              "      <td>50000.0</td>\n",
              "      <td>MALE</td>\n",
              "      <td>UNIVERSITY</td>\n",
              "      <td>MARRIED</td>\n",
              "      <td>57</td>\n",
              "      <td>-1</td>\n",
              "      <td>0</td>\n",
              "      <td>-1</td>\n",
              "      <td>0</td>\n",
              "      <td>0</td>\n",
              "      <td>0</td>\n",
              "      <td>8617.0</td>\n",
              "      <td>5670.0</td>\n",
              "      <td>35835.0</td>\n",
              "      <td>20940.0</td>\n",
              "      <td>19146.0</td>\n",
              "      <td>19131.0</td>\n",
              "      <td>2000.0</td>\n",
              "      <td>36681.0</td>\n",
              "      <td>10000.0</td>\n",
              "      <td>9000.0</td>\n",
              "      <td>689.0</td>\n",
              "      <td>679.0</td>\n",
              "      <td>0</td>\n",
              "    </tr>\n",
              "    <tr>\n",
              "      <th>6</th>\n",
              "      <td>50000.0</td>\n",
              "      <td>MALE</td>\n",
              "      <td>GRADUATE SCHOOL</td>\n",
              "      <td>SINGLE</td>\n",
              "      <td>37</td>\n",
              "      <td>0</td>\n",
              "      <td>0</td>\n",
              "      <td>0</td>\n",
              "      <td>0</td>\n",
              "      <td>0</td>\n",
              "      <td>0</td>\n",
              "      <td>64400.0</td>\n",
              "      <td>57069.0</td>\n",
              "      <td>57608.0</td>\n",
              "      <td>19394.0</td>\n",
              "      <td>19619.0</td>\n",
              "      <td>20024.0</td>\n",
              "      <td>2500.0</td>\n",
              "      <td>1815.0</td>\n",
              "      <td>657.0</td>\n",
              "      <td>1000.0</td>\n",
              "      <td>1000.0</td>\n",
              "      <td>800.0</td>\n",
              "      <td>0</td>\n",
              "    </tr>\n",
              "  </tbody>\n",
              "</table>\n",
              "</div>"
            ],
            "text/plain": [
              "    LIMIT_BAL     SEX        EDUCATION  ... PAY_AMT5  PAY_AMT6  DEFAULT\n",
              "ID                                      ...                            \n",
              "2    120000.0  FEMALE       UNIVERSITY  ...      0.0    2000.0        1\n",
              "3     90000.0  FEMALE       UNIVERSITY  ...   1000.0    5000.0        0\n",
              "4     50000.0  FEMALE       UNIVERSITY  ...   1069.0    1000.0        0\n",
              "5     50000.0    MALE       UNIVERSITY  ...    689.0     679.0        0\n",
              "6     50000.0    MALE  GRADUATE SCHOOL  ...   1000.0     800.0        0\n",
              "\n",
              "[5 rows x 24 columns]"
            ]
          },
          "metadata": {
            "tags": []
          },
          "execution_count": 4
        }
      ]
    },
    {
      "cell_type": "code",
      "metadata": {
        "id": "pmjSkqDmugnJ",
        "outputId": "909d4841-d34d-4283-fc2a-44cea6444ae6",
        "colab": {
          "base_uri": "https://localhost:8080/",
          "height": 35
        }
      },
      "source": [
        "print(df.isnull().values.any())"
      ],
      "execution_count": null,
      "outputs": [
        {
          "output_type": "stream",
          "text": [
            "False\n"
          ],
          "name": "stdout"
        }
      ]
    },
    {
      "cell_type": "markdown",
      "metadata": {
        "id": "2gkv6WaOIa_c"
      },
      "source": [
        "#Data Visualization"
      ]
    },
    {
      "cell_type": "code",
      "metadata": {
        "id": "62uPxySQDmiW"
      },
      "source": [
        "features=['LIMIT_BAL', 'SEX', 'EDUCATION', 'MARRIAGE', 'AGE', 'PAY_1', 'PAY_2',\n",
        "       'PAY_3', 'PAY_4', 'PAY_5', 'PAY_6', 'BILL_AMT1', 'BILL_AMT2',\n",
        "       'BILL_AMT3', 'BILL_AMT4', 'BILL_AMT5', 'BILL_AMT6', 'PAY_AMT1',\n",
        "       'PAY_AMT2', 'PAY_AMT3', 'PAY_AMT4', 'PAY_AMT5', 'PAY_AMT6']"
      ],
      "execution_count": null,
      "outputs": []
    },
    {
      "cell_type": "code",
      "metadata": {
        "id": "wBET4eQI8S1D"
      },
      "source": [
        "# Converting string labels into numbers.\n",
        "pre = preprocessing.LabelEncoder()\n",
        "df['SEX']=pre.fit_transform(df['SEX'])\n",
        "df['EDUCATION']=pre.fit_transform(df['EDUCATION'])\n",
        "df['MARRIAGE']=pre.fit_transform(df['MARRIAGE'])\n",
        "df['PAY_1']=pre.fit_transform(df['PAY_1'])\n",
        "df['PAY_2']=pre.fit_transform(df['PAY_2'])\n",
        "df['PAY_3']=pre.fit_transform(df['PAY_3'])\n",
        "df['PAY_4']=pre.fit_transform(df['PAY_4'])\n",
        "df['PAY_5']=pre.fit_transform(df['PAY_5'])\n",
        "df['PAY_6']=pre.fit_transform(df['PAY_6'])"
      ],
      "execution_count": null,
      "outputs": []
    },
    {
      "cell_type": "code",
      "metadata": {
        "id": "HJgUlWD0fCa4",
        "outputId": "b469b376-9cc7-44b3-878f-6e07457d555f",
        "colab": {
          "base_uri": "https://localhost:8080/",
          "height": 265
        }
      },
      "source": [
        "DEF_0 = [df.SEX.groupby(df.DEFAULT).value_counts()[0][0],df.SEX.groupby(df.DEFAULT).value_counts()[0][1]]\n",
        "DEF_1 = [df.SEX.groupby(df.DEFAULT).value_counts()[1][0],df.SEX.groupby(df.DEFAULT).value_counts()[1][1]]\n",
        "index = ['FEMALE', 'MALE']\n",
        "data1 = pd.DataFrame({'0': DEF_0,\n",
        "                  '1': DEF_1}, index=index)\n",
        "ax = data1.plot.barh()"
      ],
      "execution_count": null,
      "outputs": [
        {
          "output_type": "display_data",
          "data": {
            "image/png": "[encoded data removed]",
            "text/plain": [
              "<Figure size 432x288 with 1 Axes>"
            ]
          },
          "metadata": {
            "tags": [],
            "needs_background": "light"
          }
        }
      ]
    },
    {
      "cell_type": "code",
      "metadata": {
        "id": "RzCjqab6nsKT",
        "outputId": "df626fab-1fcb-4131-fa90-4e28801f50bd",
        "colab": {
          "base_uri": "https://localhost:8080/",
          "height": 265
        }
      },
      "source": [
        "DEF_0 = [df.MARRIAGE.groupby(df.DEFAULT).value_counts()[0][0],df.MARRIAGE.groupby(df.DEFAULT).value_counts()[0][1],df.MARRIAGE.groupby(df.DEFAULT).value_counts()[0][2]]\n",
        "DEF_1 = [df.MARRIAGE.groupby(df.DEFAULT).value_counts()[1][0],df.MARRIAGE.groupby(df.DEFAULT).value_counts()[1][1],df.MARRIAGE.groupby(df.DEFAULT).value_counts()[1][2]]\n",
        "index = ['MARRIED', 'OTHERS','SINGLE']\n",
        "data2 = pd.DataFrame({'0': DEF_0,\n",
        "                  '1': DEF_1}, index=index)\n",
        "ax = data2.plot.barh()"
      ],
      "execution_count": null,
      "outputs": [
        {
          "output_type": "display_data",
          "data": {
            "image/png": "[encoded data removed]",
            "text/plain": [
              "<Figure size 432x288 with 1 Axes>"
            ]
          },
          "metadata": {
            "tags": [],
            "needs_background": "light"
          }
        }
      ]
    },
    {
      "cell_type": "code",
      "metadata": {
        "id": "NnNSkb1dnsKv",
        "outputId": "2e519419-693c-4a7f-a614-b7e3b2fd41ce",
        "colab": {
          "base_uri": "https://localhost:8080/",
          "height": 265
        }
      },
      "source": [
        "DEF_0 = [df.EDUCATION.groupby(df.DEFAULT).value_counts()[0][0],df.EDUCATION.groupby(df.DEFAULT).value_counts()[0][1],df.EDUCATION.groupby(df.DEFAULT).value_counts()[0][2],df.EDUCATION.groupby(df.DEFAULT).value_counts()[0][3]]\n",
        "DEF_1 = [df.EDUCATION.groupby(df.DEFAULT).value_counts()[1][0],df.EDUCATION.groupby(df.DEFAULT).value_counts()[1][1],df.EDUCATION.groupby(df.DEFAULT).value_counts()[1][2],df.EDUCATION.groupby(df.DEFAULT).value_counts()[1][3]]\n",
        "index = ['GRADUATE SCHOOL', 'HIGH SCHOOL','OTHERS','UNIVERSITY']\n",
        "data3 = pd.DataFrame({'0': DEF_0,\n",
        "                  '1': DEF_1}, index=index)\n",
        "ax = data3.plot.barh()"
      ],
      "execution_count": null,
      "outputs": [
        {
          "output_type": "display_data",
          "data": {
            "image/png": "[encoded data removed]",
            "text/plain": [
              "<Figure size 432x288 with 1 Axes>"
            ]
          },
          "metadata": {
            "tags": [],
            "needs_background": "light"
          }
        }
      ]
    },
    {
      "cell_type": "code",
      "metadata": {
        "id": "QQiERzLmjE4L"
      },
      "source": [
        "def draw_barh(df, variables, n_rows, n_cols):\n",
        "    fig=plt.figure()\n",
        "    for i, var_name in enumerate(variables):\n",
        "        ax=fig.add_subplot(n_rows,n_cols,i+1)\n",
        "        df[var_name].value_counts().plot(kind='barh')\n",
        "        ax.set_title(var_name)\n",
        "    fig.tight_layout()  # Improves appearance a bit.\n",
        "    plt.show()"
      ],
      "execution_count": null,
      "outputs": []
    },
    {
      "cell_type": "code",
      "metadata": {
        "id": "D77sZbQ5bxSk",
        "outputId": "4f409da0-7c54-44af-9419-046e89240a16",
        "colab": {
          "base_uri": "https://localhost:8080/",
          "height": 297
        }
      },
      "source": [
        "bills = df[['PAY_1','PAY_2', 'PAY_3', 'PAY_4', 'PAY_5', 'PAY_6']]\n",
        "draw_barh(bills, bills.columns, 2, 3)"
      ],
      "execution_count": null,
      "outputs": [
        {
          "output_type": "display_data",
          "data": {
            "image/png": "[encoded data removed]",
            "text/plain": [
              "<Figure size 432x288 with 6 Axes>"
            ]
          },
          "metadata": {
            "tags": [],
            "needs_background": "light"
          }
        }
      ]
    },
    {
      "cell_type": "code",
      "metadata": {
        "id": "KsTLq7eg68zP",
        "outputId": "12b798aa-1f3f-47cb-e12b-cf35025ef42a",
        "colab": {
          "base_uri": "https://localhost:8080/",
          "height": 297
        }
      },
      "source": [
        "fil = (df.PAY_1 == 4) |(df.PAY_1 == 5) | (df.PAY_1 == 6) | (df.PAY_1 == 7) | (df.PAY_1 == 8) | (df.PAY_1 == 9) | (df.PAY_1 == 10)\n",
        "df.loc[fil, 'PAY_1'] = 4\n",
        "fil = (df.PAY_2 == 4) |(df.PAY_2 == 5) | (df.PAY_2 == 6) | (df.PAY_2 == 7) | (df.PAY_2 == 8) | (df.PAY_2 == 9) | (df.PAY_2 == 10)\n",
        "df.loc[fil, 'PAY_2'] = 4\n",
        "fil = (df.PAY_3 == 4) |(df.PAY_3 == 5) | (df.PAY_3 == 6) | (df.PAY_3 == 7) | (df.PAY_3 == 8) | (df.PAY_3 == 9) | (df.PAY_3 == 10)\n",
        "df.loc[fil, 'PAY_3'] = 4\n",
        "fil = (df.PAY_4 == 4) |(df.PAY_4 == 5) | (df.PAY_4 == 6) | (df.PAY_4 == 7) | (df.PAY_4 == 8) | (df.PAY_4 == 9) | (df.PAY_4 == 10)\n",
        "df.loc[fil, 'PAY_4'] = 4\n",
        "fil = (df.PAY_5 == 4) |(df.PAY_5 == 5) | (df.PAY_5 == 6) | (df.PAY_5 == 7) | (df.PAY_5 == 8) | (df.PAY_5 == 9) | (df.PAY_5 == 10)\n",
        "df.loc[fil, 'PAY_5'] = 4\n",
        "fil = (df.PAY_6 == 4) |(df.PAY_6 == 5) | (df.PAY_6 == 6) | (df.PAY_6 == 7) | (df.PAY_6 == 8) | (df.PAY_6 == 9) | (df.PAY_6 == 10)\n",
        "df.loc[fil, 'PAY_6'] = 4\n",
        "bills = df[['PAY_1','PAY_2', 'PAY_3', 'PAY_4', 'PAY_5', 'PAY_6']]\n",
        "draw_barh(bills, bills.columns, 2, 3)"
      ],
      "execution_count": null,
      "outputs": [
        {
          "output_type": "display_data",
          "data": {
            "image/png": "[encoded data removed]",
            "text/plain": [
              "<Figure size 432x288 with 6 Axes>"
            ]
          },
          "metadata": {
            "tags": [],
            "needs_background": "light"
          }
        }
      ]
    },
    {
      "cell_type": "code",
      "metadata": {
        "id": "I_sZl89ynsK2"
      },
      "source": [
        "def draw_histograms(df, variables, n_rows, n_cols, n_bins,title):\n",
        "    fig=plt.figure()\n",
        "    for i, var_name in enumerate(variables):\n",
        "        ax=fig.add_subplot(n_rows,n_cols,i+1)\n",
        "        df[var_name].hist(bins=n_bins,ax=ax)\n",
        "        ax.set_title(var_name)\n",
        "    fig.tight_layout()  # Improves appearance a bit.\n",
        "    plt.show()"
      ],
      "execution_count": null,
      "outputs": []
    },
    {
      "cell_type": "code",
      "metadata": {
        "id": "hnbH-48KnsK7",
        "outputId": "0ed6a408-97d1-456a-eac6-56a63e3ff8d8",
        "colab": {
          "base_uri": "https://localhost:8080/",
          "height": 297
        }
      },
      "source": [
        "bills = df[['BILL_AMT1','BILL_AMT2', 'BILL_AMT3', 'BILL_AMT4', 'BILL_AMT5', 'BILL_AMT6']]\n",
        "draw_histograms(bills, bills.columns, 2, 3, 20,'BILL AMOUNT')"
      ],
      "execution_count": null,
      "outputs": [
        {
          "output_type": "display_data",
          "data": {
            "image/png": "[encoded data removed]",
            "text/plain": [
              "<Figure size 432x288 with 6 Axes>"
            ]
          },
          "metadata": {
            "tags": [],
            "needs_background": "light"
          }
        }
      ]
    },
    {
      "cell_type": "code",
      "metadata": {
        "id": "UxjrthsynsLD",
        "outputId": "a9179b97-7c30-484f-f730-02f2be4047c9",
        "colab": {
          "base_uri": "https://localhost:8080/",
          "height": 299
        }
      },
      "source": [
        "df.groupby(df.DEFAULT).AGE.plot.hist()\n",
        "plt.legend(loc=\"upper right\")\n",
        "plt.title('AGE')"
      ],
      "execution_count": null,
      "outputs": [
        {
          "output_type": "execute_result",
          "data": {
            "text/plain": [
              "Text(0.5, 1.0, 'AGE')"
            ]
          },
          "metadata": {
            "tags": []
          },
          "execution_count": 22
        },
        {
          "output_type": "display_data",
          "data": {
            "image/png": "[encoded data removed]",
            "text/plain": [
              "<Figure size 432x288 with 1 Axes>"
            ]
          },
          "metadata": {
            "tags": [],
            "needs_background": "light"
          }
        }
      ]
    },
    {
      "cell_type": "code",
      "metadata": {
        "id": "F8eA7_JznsLF",
        "outputId": "fc978db7-90fb-4d75-f34e-7a5eeded9a6c",
        "colab": {
          "base_uri": "https://localhost:8080/",
          "height": 312
        }
      },
      "source": [
        "df.groupby(df.DEFAULT).LIMIT_BAL.plot.hist()\n",
        "plt.legend(loc=\"upper right\")\n",
        "plt.title('LIMIT BALANCE')\n"
      ],
      "execution_count": null,
      "outputs": [
        {
          "output_type": "execute_result",
          "data": {
            "text/plain": [
              "Text(0.5, 1.0, 'LIMIT BALANCE')"
            ]
          },
          "metadata": {
            "tags": []
          },
          "execution_count": 24
        },
        {
          "output_type": "display_data",
          "data": {
            "image/png": "[encoded data removed]",
            "text/plain": [
              "<Figure size 432x288 with 1 Axes>"
            ]
          },
          "metadata": {
            "tags": [],
            "needs_background": "light"
          }
        }
      ]
    },
    {
      "cell_type": "code",
      "metadata": {
        "id": "cKaFHwL_8gFM",
        "outputId": "118d15cc-3c47-45d4-cbca-755a3af2dbaa",
        "colab": {
          "base_uri": "https://localhost:8080/",
          "height": 299
        }
      },
      "source": [
        "df.DEFAULT.value_counts().plot.barh()\n",
        "plt.title('DEFAULT')"
      ],
      "execution_count": null,
      "outputs": [
        {
          "output_type": "execute_result",
          "data": {
            "text/plain": [
              "Text(0.5, 1.0, 'DEFAULT')"
            ]
          },
          "metadata": {
            "tags": []
          },
          "execution_count": 25
        },
        {
          "output_type": "display_data",
          "data": {
            "image/png": "[encoded data removed]",
            "text/plain": [
              "<Figure size 432x288 with 1 Axes>"
            ]
          },
          "metadata": {
            "tags": [],
            "needs_background": "light"
          }
        }
      ]
    },
    {
      "cell_type": "code",
      "metadata": {
        "id": "yr1HmC7PAjje"
      },
      "source": [
        "X = df[features].copy()\n",
        "X.columns\n",
        "\n",
        "y = df['DEFAULT'].copy()"
      ],
      "execution_count": null,
      "outputs": []
    },
    {
      "cell_type": "code",
      "metadata": {
        "id": "P0GIz7t58c2e",
        "outputId": "50f8593c-cb0a-4b0b-ed02-b5f6fc3b40b9",
        "colab": {
          "base_uri": "https://localhost:8080/",
          "height": 535
        }
      },
      "source": [
        "X_train, X_test, y_train, y_test = train_test_split(X, y, test_size=0.2, random_state=0)\n",
        "df_train = X_train.join(y_train)\n",
        "\n",
        "print(df.DEFAULT.describe())\n",
        "print(\"---------------------------\")\n",
        "print(y_train.describe())\n",
        "print(\"---------------------------\")\n",
        "print(y_test.describe())"
      ],
      "execution_count": null,
      "outputs": [
        {
          "output_type": "stream",
          "text": [
            "count    24000.000000\n",
            "mean         0.335625\n",
            "std          0.472218\n",
            "min          0.000000\n",
            "25%          0.000000\n",
            "50%          0.000000\n",
            "75%          1.000000\n",
            "max          1.000000\n",
            "Name: DEFAULT, dtype: float64\n",
            "---------------------------\n",
            "count    19200.000000\n",
            "mean         0.335938\n",
            "std          0.472329\n",
            "min          0.000000\n",
            "25%          0.000000\n",
            "50%          0.000000\n",
            "75%          1.000000\n",
            "max          1.000000\n",
            "Name: DEFAULT, dtype: float64\n",
            "---------------------------\n",
            "count    4800.000000\n",
            "mean        0.334375\n",
            "std         0.471821\n",
            "min         0.000000\n",
            "25%         0.000000\n",
            "50%         0.000000\n",
            "75%         1.000000\n",
            "max         1.000000\n",
            "Name: DEFAULT, dtype: float64\n"
          ],
          "name": "stdout"
        }
      ]
    },
    {
      "cell_type": "markdown",
      "metadata": {
        "id": "bJ-Ak7nbIyNK"
      },
      "source": [
        "#Data Preprocessing"
      ]
    },
    {
      "cell_type": "markdown",
      "metadata": {
        "id": "enrtaJgMImwd"
      },
      "source": [
        "##Feature Elimination"
      ]
    },
    {
      "cell_type": "code",
      "metadata": {
        "id": "PHL6XaMRvawB",
        "outputId": "9fafa3ca-99fc-4545-84e6-16c07d4da968",
        "colab": {
          "base_uri": "https://localhost:8080/",
          "height": 336
        }
      },
      "source": [
        "from sklearn.ensemble import ExtraTreesClassifier\n",
        "import matplotlib.pyplot as plt\n",
        "model = ExtraTreesClassifier()\n",
        "model.fit(df[features],df['DEFAULT'])\n",
        "print(model.feature_importances_) #use inbuilt class feature_importances of tree based classifiers\n",
        "#plot graph of feature importances for better visualization\n",
        "feat_importances = pd.Series(model.feature_importances_, index=features)\n",
        "feat_importances.nlargest(23).plot(kind='barh')\n",
        "plt.show()"
      ],
      "execution_count": null,
      "outputs": [
        {
          "output_type": "stream",
          "text": [
            "[0.0065241  0.00121384 0.00193194 0.00123473 0.00276802 0.32404502\n",
            " 0.16972768 0.1698739  0.11861694 0.06673692 0.08466143 0.01072415\n",
            " 0.00425995 0.00366814 0.00329841 0.00351559 0.00306769 0.00482211\n",
            " 0.00454902 0.0036573  0.00413855 0.00412499 0.00283957]\n"
          ],
          "name": "stdout"
        },
        {
          "output_type": "display_data",
          "data": {
            "image/png": "[encoded data removed]",
            "text/plain": [
              "<Figure size 432x288 with 1 Axes>"
            ]
          },
          "metadata": {
            "tags": [],
            "needs_background": "light"
          }
        }
      ]
    },
    {
      "cell_type": "code",
      "metadata": {
        "id": "5Bb3hJRTJxaX",
        "outputId": "7a5254de-8c93-49df-f004-0a31c54d3b35",
        "colab": {
          "base_uri": "https://localhost:8080/",
          "height": 455
        }
      },
      "source": [
        "feature_new=['PAY_1', 'PAY_2',\n",
        "       'PAY_3', 'PAY_4', 'PAY_5', 'PAY_6']\n",
        "\n",
        "X_train=X_train[feature_new]\n",
        "X_test=X_test[feature_new]\n",
        "X_test"
      ],
      "execution_count": null,
      "outputs": [
        {
          "output_type": "execute_result",
          "data": {
            "text/html": [
              "<div>\n",
              "<style scoped>\n",
              "    .dataframe tbody tr th:only-of-type {\n",
              "        vertical-align: middle;\n",
              "    }\n",
              "\n",
              "    .dataframe tbody tr th {\n",
              "        vertical-align: top;\n",
              "    }\n",
              "\n",
              "    .dataframe thead th {\n",
              "        text-align: right;\n",
              "    }\n",
              "</style>\n",
              "<table border=\"1\" class=\"dataframe\">\n",
              "  <thead>\n",
              "    <tr style=\"text-align: right;\">\n",
              "      <th></th>\n",
              "      <th>PAY_1</th>\n",
              "      <th>PAY_2</th>\n",
              "      <th>PAY_3</th>\n",
              "      <th>PAY_4</th>\n",
              "      <th>PAY_5</th>\n",
              "      <th>PAY_6</th>\n",
              "    </tr>\n",
              "    <tr>\n",
              "      <th>ID</th>\n",
              "      <th></th>\n",
              "      <th></th>\n",
              "      <th></th>\n",
              "      <th></th>\n",
              "      <th></th>\n",
              "      <th></th>\n",
              "    </tr>\n",
              "  </thead>\n",
              "  <tbody>\n",
              "    <tr>\n",
              "      <th>3917</th>\n",
              "      <td>4</td>\n",
              "      <td>2</td>\n",
              "      <td>2</td>\n",
              "      <td>2</td>\n",
              "      <td>2</td>\n",
              "      <td>2</td>\n",
              "    </tr>\n",
              "    <tr>\n",
              "      <th>8422</th>\n",
              "      <td>2</td>\n",
              "      <td>2</td>\n",
              "      <td>2</td>\n",
              "      <td>2</td>\n",
              "      <td>1</td>\n",
              "      <td>2</td>\n",
              "    </tr>\n",
              "    <tr>\n",
              "      <th>12235</th>\n",
              "      <td>2</td>\n",
              "      <td>2</td>\n",
              "      <td>4</td>\n",
              "      <td>2</td>\n",
              "      <td>2</td>\n",
              "      <td>2</td>\n",
              "    </tr>\n",
              "    <tr>\n",
              "      <th>18659</th>\n",
              "      <td>4</td>\n",
              "      <td>4</td>\n",
              "      <td>4</td>\n",
              "      <td>4</td>\n",
              "      <td>3</td>\n",
              "      <td>3</td>\n",
              "    </tr>\n",
              "    <tr>\n",
              "      <th>16552</th>\n",
              "      <td>3</td>\n",
              "      <td>1</td>\n",
              "      <td>1</td>\n",
              "      <td>1</td>\n",
              "      <td>2</td>\n",
              "      <td>1</td>\n",
              "    </tr>\n",
              "    <tr>\n",
              "      <th>...</th>\n",
              "      <td>...</td>\n",
              "      <td>...</td>\n",
              "      <td>...</td>\n",
              "      <td>...</td>\n",
              "      <td>...</td>\n",
              "      <td>...</td>\n",
              "    </tr>\n",
              "    <tr>\n",
              "      <th>887</th>\n",
              "      <td>0</td>\n",
              "      <td>0</td>\n",
              "      <td>0</td>\n",
              "      <td>0</td>\n",
              "      <td>0</td>\n",
              "      <td>0</td>\n",
              "    </tr>\n",
              "    <tr>\n",
              "      <th>329</th>\n",
              "      <td>0</td>\n",
              "      <td>1</td>\n",
              "      <td>1</td>\n",
              "      <td>0</td>\n",
              "      <td>0</td>\n",
              "      <td>0</td>\n",
              "    </tr>\n",
              "    <tr>\n",
              "      <th>5189</th>\n",
              "      <td>4</td>\n",
              "      <td>4</td>\n",
              "      <td>4</td>\n",
              "      <td>4</td>\n",
              "      <td>3</td>\n",
              "      <td>3</td>\n",
              "    </tr>\n",
              "    <tr>\n",
              "      <th>29914</th>\n",
              "      <td>1</td>\n",
              "      <td>1</td>\n",
              "      <td>2</td>\n",
              "      <td>2</td>\n",
              "      <td>2</td>\n",
              "      <td>2</td>\n",
              "    </tr>\n",
              "    <tr>\n",
              "      <th>22271</th>\n",
              "      <td>2</td>\n",
              "      <td>2</td>\n",
              "      <td>2</td>\n",
              "      <td>2</td>\n",
              "      <td>2</td>\n",
              "      <td>2</td>\n",
              "    </tr>\n",
              "  </tbody>\n",
              "</table>\n",
              "<p>4800 rows × 6 columns</p>\n",
              "</div>"
            ],
            "text/plain": [
              "       PAY_1  PAY_2  PAY_3  PAY_4  PAY_5  PAY_6\n",
              "ID                                             \n",
              "3917       4      2      2      2      2      2\n",
              "8422       2      2      2      2      1      2\n",
              "12235      2      2      4      2      2      2\n",
              "18659      4      4      4      4      3      3\n",
              "16552      3      1      1      1      2      1\n",
              "...      ...    ...    ...    ...    ...    ...\n",
              "887        0      0      0      0      0      0\n",
              "329        0      1      1      0      0      0\n",
              "5189       4      4      4      4      3      3\n",
              "29914      1      1      2      2      2      2\n",
              "22271      2      2      2      2      2      2\n",
              "\n",
              "[4800 rows x 6 columns]"
            ]
          },
          "metadata": {
            "tags": []
          },
          "execution_count": 35
        }
      ]
    },
    {
      "cell_type": "markdown",
      "metadata": {
        "id": "k8MUXJREI5jQ"
      },
      "source": [
        "##Standardization"
      ]
    },
    {
      "cell_type": "code",
      "metadata": {
        "id": "39AN-5gYtXKK"
      },
      "source": [
        "scaler=StandardScaler()\n",
        "scaler.fit(X_train)\n",
        "X_train=scaler.transform(X_train)\n",
        "X_test=scaler.transform(X_test)"
      ],
      "execution_count": null,
      "outputs": []
    },
    {
      "cell_type": "markdown",
      "metadata": {
        "id": "8UIcVr3rI_DI"
      },
      "source": [
        "#Random Forest"
      ]
    },
    {
      "cell_type": "code",
      "metadata": {
        "id": "ia9rQxzvtP7r",
        "outputId": "ed0d23ae-78cc-43fe-9417-144c963011f4",
        "colab": {
          "base_uri": "https://localhost:8080/",
          "height": 187
        }
      },
      "source": [
        "#RANDOMFOREST\n",
        "param_grid = {'criterion' : ['gini','entropy'],'max_depth':[5,10,20,100],\n",
        "             'max_leaf_nodes': [5,10,20,100],\n",
        "             'min_samples_split': [5, 10, 20,100],'warm_start':[True,False]}\n",
        "\n",
        "grid_rf= GridSearchCV(RandomForestClassifier(), param_grid, cv = 5, scoring='accuracy',n_jobs=-1,verbose=1)\n",
        "\n",
        "grid_rf.fit(X_train, y_train)\n",
        "rf=grid_rf.best_estimator_\n",
        "rf=rf.fit(X_train,y_train)"
      ],
      "execution_count": null,
      "outputs": [
        {
          "output_type": "stream",
          "text": [
            "Fitting 5 folds for each of 256 candidates, totalling 1280 fits\n"
          ],
          "name": "stdout"
        },
        {
          "output_type": "stream",
          "text": [
            "[Parallel(n_jobs=-1)]: Using backend LokyBackend with 2 concurrent workers.\n",
            "[Parallel(n_jobs=-1)]: Done  46 tasks      | elapsed:   18.6s\n",
            "[Parallel(n_jobs=-1)]: Done 196 tasks      | elapsed:  1.2min\n",
            "[Parallel(n_jobs=-1)]: Done 446 tasks      | elapsed:  2.9min\n",
            "[Parallel(n_jobs=-1)]: Done 796 tasks      | elapsed:  5.2min\n",
            "[Parallel(n_jobs=-1)]: Done 1246 tasks      | elapsed:  8.2min\n",
            "[Parallel(n_jobs=-1)]: Done 1280 out of 1280 | elapsed:  8.4min finished\n",
            "/usr/local/lib/python3.6/dist-packages/sklearn/ensemble/_forest.py:359: UserWarning: Warm-start fitting without increasing n_estimators does not fit new trees.\n",
            "  warn(\"Warm-start fitting without increasing n_estimators does not \"\n"
          ],
          "name": "stderr"
        }
      ]
    },
    {
      "cell_type": "code",
      "metadata": {
        "id": "YbEIyxtgQrwo",
        "outputId": "91b67718-4dbe-42de-9947-1b485e95c0d9",
        "colab": {
          "base_uri": "https://localhost:8080/",
          "height": 153
        }
      },
      "source": [
        "grid_rf.best_estimator_"
      ],
      "execution_count": null,
      "outputs": [
        {
          "output_type": "execute_result",
          "data": {
            "text/plain": [
              "RandomForestClassifier(bootstrap=True, ccp_alpha=0.0, class_weight=None,\n",
              "                       criterion='gini', max_depth=5, max_features='auto',\n",
              "                       max_leaf_nodes=10, max_samples=None,\n",
              "                       min_impurity_decrease=0.0, min_impurity_split=None,\n",
              "                       min_samples_leaf=1, min_samples_split=5,\n",
              "                       min_weight_fraction_leaf=0.0, n_estimators=100,\n",
              "                       n_jobs=None, oob_score=False, random_state=None,\n",
              "                       verbose=0, warm_start=True)"
            ]
          },
          "metadata": {
            "tags": []
          },
          "execution_count": 331
        }
      ]
    },
    {
      "cell_type": "code",
      "metadata": {
        "id": "KuWTU5sQ5Yn2",
        "outputId": "1cb3550b-c5ea-429f-85d1-349786b80eb9",
        "colab": {
          "base_uri": "https://localhost:8080/",
          "height": 235
        }
      },
      "source": [
        "def get_feature_importance(clsf, ftrs):\n",
        "    imp = clsf.feature_importances_.tolist()\n",
        "    feat = ftrs\n",
        "    result = pd.DataFrame({'feat':feat,'score':imp})\n",
        "    result = result.sort_values(by=['score'],ascending=False)\n",
        "    return result\n",
        "get_feature_importance(rf,feature_new)"
      ],
      "execution_count": null,
      "outputs": [
        {
          "output_type": "execute_result",
          "data": {
            "text/html": [
              "<div>\n",
              "<style scoped>\n",
              "    .dataframe tbody tr th:only-of-type {\n",
              "        vertical-align: middle;\n",
              "    }\n",
              "\n",
              "    .dataframe tbody tr th {\n",
              "        vertical-align: top;\n",
              "    }\n",
              "\n",
              "    .dataframe thead th {\n",
              "        text-align: right;\n",
              "    }\n",
              "</style>\n",
              "<table border=\"1\" class=\"dataframe\">\n",
              "  <thead>\n",
              "    <tr style=\"text-align: right;\">\n",
              "      <th></th>\n",
              "      <th>feat</th>\n",
              "      <th>score</th>\n",
              "    </tr>\n",
              "  </thead>\n",
              "  <tbody>\n",
              "    <tr>\n",
              "      <th>0</th>\n",
              "      <td>PAY_1</td>\n",
              "      <td>0.458949</td>\n",
              "    </tr>\n",
              "    <tr>\n",
              "      <th>2</th>\n",
              "      <td>PAY_3</td>\n",
              "      <td>0.174530</td>\n",
              "    </tr>\n",
              "    <tr>\n",
              "      <th>1</th>\n",
              "      <td>PAY_2</td>\n",
              "      <td>0.130500</td>\n",
              "    </tr>\n",
              "    <tr>\n",
              "      <th>5</th>\n",
              "      <td>PAY_6</td>\n",
              "      <td>0.099453</td>\n",
              "    </tr>\n",
              "    <tr>\n",
              "      <th>3</th>\n",
              "      <td>PAY_4</td>\n",
              "      <td>0.096018</td>\n",
              "    </tr>\n",
              "    <tr>\n",
              "      <th>4</th>\n",
              "      <td>PAY_5</td>\n",
              "      <td>0.040550</td>\n",
              "    </tr>\n",
              "  </tbody>\n",
              "</table>\n",
              "</div>"
            ],
            "text/plain": [
              "    feat     score\n",
              "0  PAY_1  0.458949\n",
              "2  PAY_3  0.174530\n",
              "1  PAY_2  0.130500\n",
              "5  PAY_6  0.099453\n",
              "3  PAY_4  0.096018\n",
              "4  PAY_5  0.040550"
            ]
          },
          "metadata": {
            "tags": []
          },
          "execution_count": 332
        }
      ]
    },
    {
      "cell_type": "code",
      "metadata": {
        "id": "d5nd_L2U-fVu",
        "outputId": "78b3a201-f81d-4b48-cbb6-a65f46215f1a",
        "colab": {
          "base_uri": "https://localhost:8080/",
          "height": 340
        }
      },
      "source": [
        "predictions = rf.predict(X_test)\n",
        "print(classification_report(y_test,predictions))"
      ],
      "execution_count": null,
      "outputs": [
        {
          "output_type": "stream",
          "text": [
            "              precision    recall  f1-score   support\n",
            "\n",
            "           0       1.00      1.00      1.00      3195\n",
            "           1       1.00      1.00      1.00      1605\n",
            "\n",
            "    accuracy                           1.00      4800\n",
            "   macro avg       1.00      1.00      1.00      4800\n",
            "weighted avg       1.00      1.00      1.00      4800\n",
            "\n",
            "              precision    recall  f1-score   support\n",
            "\n",
            "           0       0.87      0.76      0.82      4627\n",
            "           1       0.44      0.62      0.52      1373\n",
            "\n",
            "    accuracy                           0.73      6000\n",
            "   macro avg       0.66      0.69      0.67      6000\n",
            "weighted avg       0.77      0.73      0.75      6000\n",
            "\n"
          ],
          "name": "stdout"
        },
        {
          "output_type": "execute_result",
          "data": {
            "text/plain": [
              "0.7428333333333333"
            ]
          },
          "metadata": {
            "tags": []
          },
          "execution_count": 353
        }
      ]
    },
    {
      "cell_type": "code",
      "metadata": {
        "id": "4c1xz3fp1eA0",
        "outputId": "1e8e1ac0-63ee-4c46-b7a4-146072b2973d",
        "colab": {
          "base_uri": "https://localhost:8080/",
          "height": 34
        }
      },
      "source": [
        "# True Positive (TP): we predict a label of 1 (positive), and the true label is 1.\n",
        "TP = np.sum(np.logical_and(predictions == 1, y_test == 1))\n",
        " \n",
        "# True Negative (TN): we predict a label of 0 (negative), and the true label is 0.\n",
        "TN = np.sum(np.logical_and(predictions == 0, y_test == 0))\n",
        " \n",
        "# False Positive (FP): we predict a label of 1 (positive), but the true label is 0.\n",
        "FP = np.sum(np.logical_and(predictions == 1, y_test == 0))\n",
        " \n",
        "# False Negative (FN): we predict a label of 0 (negative), but the true label is 1.\n",
        "FN = np.sum(np.logical_and(predictions == 0, y_test == 1))\n",
        " \n",
        "print('TP: {}, FP: {}, TN: {}, FN: {}'.format(TP,FP,TN,FN))"
      ],
      "execution_count": null,
      "outputs": [
        {
          "output_type": "stream",
          "text": [
            "TP: 1605, FP: 0, TN: 3195, FN: 0\n"
          ],
          "name": "stdout"
        }
      ]
    },
    {
      "cell_type": "code",
      "metadata": {
        "id": "mVYCi_XY4jSi",
        "outputId": "e594dc05-a30d-478d-f30d-d857ddd31387",
        "colab": {
          "base_uri": "https://localhost:8080/",
          "height": 296
        }
      },
      "source": [
        "y_prob=rf.predict_proba(dt[feature_new])[:, 1]\n",
        "print(roc_auc_score(y_new,y_prob))\n",
        "dt1,dt2,_=roc_curve(y_new,y_prob)\n",
        "plt.plot(dt1, dt2, marker='.', label='Random Forest')\n",
        "plt.xlabel('False Positive Rate')\n",
        "plt.ylabel('True Positive Rate')\n",
        "# show the legend\n",
        "plt.legend()\n",
        "# show the plot\n",
        "plt.show()"
      ],
      "execution_count": null,
      "outputs": [
        {
          "output_type": "stream",
          "text": [
            "0.7139325668662249\n"
          ],
          "name": "stdout"
        },
        {
          "output_type": "display_data",
          "data": {
            "image/png": "[encoded data removed]",
            "text/plain": [
              "<Figure size 432x288 with 1 Axes>"
            ]
          },
          "metadata": {
            "tags": []
          }
        }
      ]
    },
    {
      "cell_type": "markdown",
      "metadata": {
        "id": "0AXoTsMOLbCN"
      },
      "source": [
        "#Upsampling/Downsampling data (Optional)"
      ]
    },
    {
      "cell_type": "code",
      "metadata": {
        "id": "chkd4rHPnsMH",
        "outputId": "d5a21ca6-b888-42d4-fcfb-b5db37265fea",
        "colab": {
          "base_uri": "https://localhost:8080/",
          "height": 136
        }
      },
      "source": [
        "# Separate majority and minority classes\n",
        "df_majority = df_train[df_train.DEFAULT==0]\n",
        "df_minority = df_train[df_train.DEFAULT==1]\n",
        "print(df_majority.DEFAULT.count())\n",
        "print(\"-----------\")\n",
        "print(df_minority.DEFAULT.count())\n",
        "print(\"-----------\")\n",
        "print(df_train.DEFAULT.value_counts())"
      ],
      "execution_count": null,
      "outputs": [
        {
          "output_type": "stream",
          "text": [
            "12750\n",
            "-----------\n",
            "6450\n",
            "-----------\n",
            "0    12750\n",
            "1     6450\n",
            "Name: DEFAULT, dtype: int64\n"
          ],
          "name": "stdout"
        }
      ]
    },
    {
      "cell_type": "code",
      "metadata": {
        "id": "TEXdD49UnsMK",
        "outputId": "490bd66c-5a70-4583-8d64-dd7203af54a1",
        "colab": {
          "base_uri": "https://localhost:8080/",
          "height": 255
        }
      },
      "source": [
        "# Upsample minority class\n",
        "df_minority_upsampled = resample(df_minority, \n",
        "                                 replace=True,     # sample with replacement\n",
        "                                 n_samples=14350,    # to match majority class\n",
        "                                 random_state=587) # reproducible results\n",
        "# Combine majority class with upsampled minority class\n",
        "df_upsampled = pd.concat([df_majority, df_minority_upsampled])\n",
        "# Display new class counts\n",
        "df_upsampled.DEFAULT.value_counts()\n",
        "y_upsampled = df_upsampled.DEFAULT\n",
        "X_upsampled = df_upsampled.drop(['DEFAULT'], axis= 1)[feature_new]\n",
        "df_upsampled.head()"
      ],
      "execution_count": null,
      "outputs": [
        {
          "output_type": "execute_result",
          "data": {
            "text/html": [
              "<div>\n",
              "<style scoped>\n",
              "    .dataframe tbody tr th:only-of-type {\n",
              "        vertical-align: middle;\n",
              "    }\n",
              "\n",
              "    .dataframe tbody tr th {\n",
              "        vertical-align: top;\n",
              "    }\n",
              "\n",
              "    .dataframe thead th {\n",
              "        text-align: right;\n",
              "    }\n",
              "</style>\n",
              "<table border=\"1\" class=\"dataframe\">\n",
              "  <thead>\n",
              "    <tr style=\"text-align: right;\">\n",
              "      <th></th>\n",
              "      <th>LIMIT_BAL</th>\n",
              "      <th>SEX</th>\n",
              "      <th>EDUCATION</th>\n",
              "      <th>MARRIAGE</th>\n",
              "      <th>AGE</th>\n",
              "      <th>PAY_1</th>\n",
              "      <th>PAY_2</th>\n",
              "      <th>PAY_3</th>\n",
              "      <th>PAY_4</th>\n",
              "      <th>PAY_5</th>\n",
              "      <th>PAY_6</th>\n",
              "      <th>BILL_AMT1</th>\n",
              "      <th>BILL_AMT2</th>\n",
              "      <th>BILL_AMT3</th>\n",
              "      <th>BILL_AMT4</th>\n",
              "      <th>BILL_AMT5</th>\n",
              "      <th>BILL_AMT6</th>\n",
              "      <th>PAY_AMT1</th>\n",
              "      <th>PAY_AMT2</th>\n",
              "      <th>PAY_AMT3</th>\n",
              "      <th>PAY_AMT4</th>\n",
              "      <th>PAY_AMT5</th>\n",
              "      <th>PAY_AMT6</th>\n",
              "      <th>DEFAULT</th>\n",
              "    </tr>\n",
              "    <tr>\n",
              "      <th>ID</th>\n",
              "      <th></th>\n",
              "      <th></th>\n",
              "      <th></th>\n",
              "      <th></th>\n",
              "      <th></th>\n",
              "      <th></th>\n",
              "      <th></th>\n",
              "      <th></th>\n",
              "      <th></th>\n",
              "      <th></th>\n",
              "      <th></th>\n",
              "      <th></th>\n",
              "      <th></th>\n",
              "      <th></th>\n",
              "      <th></th>\n",
              "      <th></th>\n",
              "      <th></th>\n",
              "      <th></th>\n",
              "      <th></th>\n",
              "      <th></th>\n",
              "      <th></th>\n",
              "      <th></th>\n",
              "      <th></th>\n",
              "      <th></th>\n",
              "    </tr>\n",
              "  </thead>\n",
              "  <tbody>\n",
              "    <tr>\n",
              "      <th>26209</th>\n",
              "      <td>310000.0</td>\n",
              "      <td>0</td>\n",
              "      <td>0</td>\n",
              "      <td>0</td>\n",
              "      <td>43</td>\n",
              "      <td>0</td>\n",
              "      <td>0</td>\n",
              "      <td>0</td>\n",
              "      <td>0</td>\n",
              "      <td>0</td>\n",
              "      <td>0</td>\n",
              "      <td>66140.0</td>\n",
              "      <td>66637.0</td>\n",
              "      <td>68131.0</td>\n",
              "      <td>68585.0</td>\n",
              "      <td>68657.0</td>\n",
              "      <td>55457.0</td>\n",
              "      <td>6000.0</td>\n",
              "      <td>10000.0</td>\n",
              "      <td>3018.0</td>\n",
              "      <td>4000.0</td>\n",
              "      <td>3000.0</td>\n",
              "      <td>3000.0</td>\n",
              "      <td>0</td>\n",
              "    </tr>\n",
              "    <tr>\n",
              "      <th>23625</th>\n",
              "      <td>410000.0</td>\n",
              "      <td>0</td>\n",
              "      <td>0</td>\n",
              "      <td>2</td>\n",
              "      <td>31</td>\n",
              "      <td>0</td>\n",
              "      <td>0</td>\n",
              "      <td>0</td>\n",
              "      <td>0</td>\n",
              "      <td>0</td>\n",
              "      <td>0</td>\n",
              "      <td>134072.0</td>\n",
              "      <td>133604.0</td>\n",
              "      <td>133882.0</td>\n",
              "      <td>135954.0</td>\n",
              "      <td>134250.0</td>\n",
              "      <td>129971.0</td>\n",
              "      <td>15003.0</td>\n",
              "      <td>15877.0</td>\n",
              "      <td>30000.0</td>\n",
              "      <td>14250.0</td>\n",
              "      <td>9971.0</td>\n",
              "      <td>27380.0</td>\n",
              "      <td>0</td>\n",
              "    </tr>\n",
              "    <tr>\n",
              "      <th>25532</th>\n",
              "      <td>200000.0</td>\n",
              "      <td>0</td>\n",
              "      <td>0</td>\n",
              "      <td>0</td>\n",
              "      <td>34</td>\n",
              "      <td>-2</td>\n",
              "      <td>-2</td>\n",
              "      <td>-2</td>\n",
              "      <td>-2</td>\n",
              "      <td>-2</td>\n",
              "      <td>-2</td>\n",
              "      <td>0.0</td>\n",
              "      <td>0.0</td>\n",
              "      <td>0.0</td>\n",
              "      <td>0.0</td>\n",
              "      <td>0.0</td>\n",
              "      <td>0.0</td>\n",
              "      <td>0.0</td>\n",
              "      <td>0.0</td>\n",
              "      <td>0.0</td>\n",
              "      <td>0.0</td>\n",
              "      <td>0.0</td>\n",
              "      <td>0.0</td>\n",
              "      <td>0</td>\n",
              "    </tr>\n",
              "    <tr>\n",
              "      <th>83</th>\n",
              "      <td>60000.0</td>\n",
              "      <td>1</td>\n",
              "      <td>1</td>\n",
              "      <td>2</td>\n",
              "      <td>30</td>\n",
              "      <td>0</td>\n",
              "      <td>0</td>\n",
              "      <td>0</td>\n",
              "      <td>0</td>\n",
              "      <td>0</td>\n",
              "      <td>0</td>\n",
              "      <td>26324.0</td>\n",
              "      <td>27471.0</td>\n",
              "      <td>28108.0</td>\n",
              "      <td>21993.0</td>\n",
              "      <td>19899.0</td>\n",
              "      <td>19771.0</td>\n",
              "      <td>1576.0</td>\n",
              "      <td>1213.0</td>\n",
              "      <td>648.0</td>\n",
              "      <td>768.0</td>\n",
              "      <td>1140.0</td>\n",
              "      <td>0.0</td>\n",
              "      <td>0</td>\n",
              "    </tr>\n",
              "    <tr>\n",
              "      <th>29809</th>\n",
              "      <td>250000.0</td>\n",
              "      <td>1</td>\n",
              "      <td>0</td>\n",
              "      <td>0</td>\n",
              "      <td>34</td>\n",
              "      <td>0</td>\n",
              "      <td>0</td>\n",
              "      <td>0</td>\n",
              "      <td>0</td>\n",
              "      <td>0</td>\n",
              "      <td>0</td>\n",
              "      <td>6035.0</td>\n",
              "      <td>11782.0</td>\n",
              "      <td>7241.0</td>\n",
              "      <td>7277.0</td>\n",
              "      <td>4972.0</td>\n",
              "      <td>2609.0</td>\n",
              "      <td>1131.0</td>\n",
              "      <td>4000.0</td>\n",
              "      <td>3000.0</td>\n",
              "      <td>99.0</td>\n",
              "      <td>1000.0</td>\n",
              "      <td>6000.0</td>\n",
              "      <td>0</td>\n",
              "    </tr>\n",
              "  </tbody>\n",
              "</table>\n",
              "</div>"
            ],
            "text/plain": [
              "       LIMIT_BAL  SEX  EDUCATION  ...  PAY_AMT5  PAY_AMT6  DEFAULT\n",
              "ID                                ...                             \n",
              "26209   310000.0    0          0  ...    3000.0    3000.0        0\n",
              "23625   410000.0    0          0  ...    9971.0   27380.0        0\n",
              "25532   200000.0    0          0  ...       0.0       0.0        0\n",
              "83       60000.0    1          1  ...    1140.0       0.0        0\n",
              "29809   250000.0    1          0  ...    1000.0    6000.0        0\n",
              "\n",
              "[5 rows x 24 columns]"
            ]
          },
          "metadata": {
            "tags": []
          },
          "execution_count": 197
        }
      ]
    },
    {
      "cell_type": "code",
      "metadata": {
        "id": "gJn4q2e3nsMO"
      },
      "source": [
        "# Downsample majority class\n",
        "df_majority_downsampled = resample(df_majority, \n",
        "                                 replace=False,    # sample without replacement\n",
        "                                 n_samples=7250,     # to match minority class\n",
        "                                 random_state=587) # reproducible results\n",
        "# Combine minority class with downsampled majority class\n",
        "df_downsampled = pd.concat([df_majority_downsampled, df_minority])\n",
        "# Display new class counts\n",
        "df_downsampled.DEFAULT.value_counts()\n",
        "\n",
        "y_downsampled = df_downsampled.DEFAULT\n",
        "X_downsampled = df_downsampled.drop(['DEFAULT'], axis = 1)[feature_new]"
      ],
      "execution_count": null,
      "outputs": []
    },
    {
      "cell_type": "code",
      "metadata": {
        "id": "lHnKubGjnsMQ",
        "outputId": "c1d13b74-bbf0-4d5c-9ace-ec60b2094a31",
        "colab": {
          "base_uri": "https://localhost:8080/",
          "height": 71
        }
      },
      "source": [
        "from imblearn.over_sampling import SMOTE\n",
        "sm = SMOTE(random_state=589, ratio = 1.0)\n",
        "X_SMOTE, y_SMOTE = sm.fit_sample(X_train, y_train)"
      ],
      "execution_count": null,
      "outputs": [
        {
          "output_type": "stream",
          "text": [
            "/usr/local/lib/python3.6/dist-packages/sklearn/utils/deprecation.py:87: FutureWarning: Function safe_indexing is deprecated; safe_indexing is deprecated in version 0.22 and will be removed in version 0.24.\n",
            "  warnings.warn(msg, category=FutureWarning)\n"
          ],
          "name": "stderr"
        }
      ]
    },
    {
      "cell_type": "markdown",
      "metadata": {
        "id": "xHTXjzNvJZWj"
      },
      "source": [
        "#k-Nearest Neighbour"
      ]
    },
    {
      "cell_type": "code",
      "metadata": {
        "id": "qsvRC4FAnsMu",
        "outputId": "c33232bc-fc95-42cf-a632-56672ec3d6b6",
        "colab": {
          "base_uri": "https://localhost:8080/",
          "height": 71
        }
      },
      "source": [
        "#kNN\n",
        "from sklearn.neighbors import KNeighborsClassifier\n",
        "from sklearn.model_selection import GridSearchCV,cross_val_score\n",
        "grid_params={'n_neighbors':[149],'weights':['uniform'],'metric':['minkowski']}\n",
        "knn=KNeighborsClassifier()\n",
        "gs=GridSearchCV(knn,grid_params,verbose=1,cv=4,n_jobs=-1,scoring='accuracy')\n",
        "gs_results=gs.fit(X_train,y_train)"
      ],
      "execution_count": null,
      "outputs": [
        {
          "output_type": "stream",
          "text": [
            "Fitting 4 folds for each of 1 candidates, totalling 4 fits\n"
          ],
          "name": "stdout"
        },
        {
          "output_type": "stream",
          "text": [
            "[Parallel(n_jobs=-1)]: Using backend LokyBackend with 2 concurrent workers.\n",
            "[Parallel(n_jobs=-1)]: Done   4 out of   4 | elapsed:    3.0s finished\n"
          ],
          "name": "stderr"
        }
      ]
    },
    {
      "cell_type": "code",
      "metadata": {
        "id": "vGIMaySonsM0",
        "outputId": "c83e3d62-af41-4380-abb4-ee2d4680b80b",
        "colab": {
          "base_uri": "https://localhost:8080/",
          "height": 35
        }
      },
      "source": [
        "gs_results.best_score_\n",
        "gs_results.best_estimator_\n",
        "gs_results.best_params_"
      ],
      "execution_count": null,
      "outputs": [
        {
          "output_type": "execute_result",
          "data": {
            "text/plain": [
              "{'metric': 'minkowski', 'n_neighbors': 149, 'weights': 'uniform'}"
            ]
          },
          "metadata": {
            "tags": []
          },
          "execution_count": 39
        }
      ]
    },
    {
      "cell_type": "code",
      "metadata": {
        "id": "cIGxyyvRLEeD",
        "outputId": "ca9d4df4-e558-4486-a2a1-2d560cfd7f18",
        "colab": {
          "base_uri": "https://localhost:8080/",
          "height": 178
        }
      },
      "source": [
        "from sklearn import metrics\n",
        "pred=gs_results.predict(X_test)\n",
        "print(classification_report(pred,y_test))"
      ],
      "execution_count": null,
      "outputs": [
        {
          "output_type": "stream",
          "text": [
            "              precision    recall  f1-score   support\n",
            "\n",
            "           0       1.00      0.98      0.99      3254\n",
            "           1       0.96      1.00      0.98      1546\n",
            "\n",
            "    accuracy                           0.99      4800\n",
            "   macro avg       0.98      0.99      0.99      4800\n",
            "weighted avg       0.99      0.99      0.99      4800\n",
            "\n"
          ],
          "name": "stdout"
        }
      ]
    },
    {
      "cell_type": "markdown",
      "metadata": {
        "id": "mZp8L9k5Jk4i"
      },
      "source": [
        "#Neural Network"
      ]
    },
    {
      "cell_type": "code",
      "metadata": {
        "id": "lb2ckzB0PT6a"
      },
      "source": [
        "from sklearn.neural_network import MLPClassifier\n",
        "from sklearn.preprocessing import StandardScaler  # doctest: +SKIP\n",
        "from sklearn.model_selection import GridSearchCV\n",
        "scaler = StandardScaler()  # doctest: +SKIP\n",
        "# Don't cheat - fit only on training data\n",
        "scaler.fit(X_train)  # doctest: +SKIP\n",
        "X_train1 = scaler.transform(X_train)  # doctest: +SKIP\n",
        "\n",
        "mlp = MLPClassifier(max_iter=100)\n",
        "parameter_space = {\n",
        "    'hidden_layer_sizes': [(50,50,50), (50,100,50), (1000,900),(1000,0),(100,8)],\n",
        "    'activation': ['logistic','tanh'],\n",
        "    'solver': ['adam'],\n",
        "    'alpha': [0.05],\n",
        "    'learning_rate': ['constant','invscaling','adaptive'],'max_iter':[1],'warm_start'}\n",
        "clf = GridSearchCV(mlp, parameter_space, n_jobs=-1, cv=5,scoring='accuracy')\n",
        "clf.fit(X_train1, y_train)"
      ],
      "execution_count": null,
      "outputs": []
    },
    {
      "cell_type": "code",
      "metadata": {
        "id": "OoWC8KBCBV6a",
        "outputId": "b081b389-b671-4d16-fe96-e7d11fec2efe",
        "colab": {
          "base_uri": "https://localhost:8080/",
          "height": 190
        }
      },
      "source": [
        "from sklearn.neural_network import MLPClassifier\n",
        "from sklearn.preprocessing import StandardScaler  # doctest: +SKIP\n",
        "from sklearn.model_selection import GridSearchCV\n",
        "\n",
        "clf =  MLPClassifier(hidden_layer_sizes=(1000,900), activation='logistic',max_iter=1,learning_rate='adaptive',warm_start=False,alpha=0.05,solver='adam')\n",
        "clf.fit(X_train, y_train)"
      ],
      "execution_count": null,
      "outputs": [
        {
          "output_type": "stream",
          "text": [
            "/usr/local/lib/python3.6/dist-packages/sklearn/neural_network/_multilayer_perceptron.py:571: ConvergenceWarning: Stochastic Optimizer: Maximum iterations (1) reached and the optimization hasn't converged yet.\n",
            "  % self.max_iter, ConvergenceWarning)\n"
          ],
          "name": "stderr"
        },
        {
          "output_type": "execute_result",
          "data": {
            "text/plain": [
              "MLPClassifier(activation='logistic', alpha=0.05, batch_size='auto', beta_1=0.9,\n",
              "              beta_2=0.999, early_stopping=False, epsilon=1e-08,\n",
              "              hidden_layer_sizes=(1000, 900), learning_rate='adaptive',\n",
              "              learning_rate_init=0.001, max_fun=15000, max_iter=1, momentum=0.9,\n",
              "              n_iter_no_change=10, nesterovs_momentum=True, power_t=0.5,\n",
              "              random_state=None, shuffle=True, solver='adam', tol=0.0001,\n",
              "              validation_fraction=0.1, verbose=False, warm_start=False)"
            ]
          },
          "metadata": {
            "tags": []
          },
          "execution_count": 626
        }
      ]
    },
    {
      "cell_type": "code",
      "metadata": {
        "id": "ZN0_YAfUoDfv"
      },
      "source": [
        "pred=clf.predict(X_test)\n",
        "print(classification_report(pred,y_test))\n",
        "print(accuracy_score(pred,y_test))"
      ],
      "execution_count": null,
      "outputs": []
    },
    {
      "cell_type": "code",
      "metadata": {
        "id": "Bh-wRoOfY7tl",
        "outputId": "f95dfc3b-ffde-45a7-d799-e1d7a35e958e",
        "colab": {
          "base_uri": "https://localhost:8080/",
          "height": 296
        }
      },
      "source": [
        "y_prob=clf.predict_proba(X_test)[:, 1]\n",
        "print(roc_auc_score(y_test,y_prob))\n",
        "dt1,dt2,_=roc_curve(y_test,y_prob)\n",
        "plt.plot(dt1, dt2, marker='.', label='Neural Network')\n",
        "plt.xlabel('False Positive Rate')\n",
        "plt.ylabel('True Positive Rate')\n",
        "# show the legend\n",
        "plt.legend()\n",
        "# show the plot\n",
        "plt.show()"
      ],
      "execution_count": null,
      "outputs": [
        {
          "output_type": "stream",
          "text": [
            "0.8330190767310683\n"
          ],
          "name": "stdout"
        },
        {
          "output_type": "display_data",
          "data": {
            "image/png": "[encoded data removed]",
            "text/plain": [
              "<Figure size 432x288 with 1 Axes>"
            ]
          },
          "metadata": {
            "tags": []
          }
        }
      ]
    },
    {
      "cell_type": "markdown",
      "metadata": {
        "id": "AUCH6LqIJsPK"
      },
      "source": [
        "#Convolution Neural Network"
      ]
    },
    {
      "cell_type": "code",
      "metadata": {
        "id": "OnO0Ng-hBgDm"
      },
      "source": [
        "import numpy as np\n",
        "from sklearn.model_selection import train_test_split\n",
        "import keras\n",
        "\n",
        "x_train, x_test, y_train, y_test = train_test_split(np.asarray(X[feature_new]), np.asarray(y), test_size=0.20, shuffle= True)\n",
        "y_new=np.array(y_new)\n",
        "# The known number of output classes.\n",
        "num_classes = 3\n",
        "\n",
        "# Input image dimensions\n",
        "input_shape = (4,)\n",
        "\n",
        "# Convert class vectors to binary class matrices. This uses 1 hot encoding.\n",
        "y_train_binary = keras.utils.to_categorical(y_train, num_classes)\n",
        "y_test_binary = keras.utils.to_categorical(y_test, num_classes)\n",
        "\n",
        "x_train = x_train.reshape((19200, 6,1))\n",
        "x_test = x_test.reshape((4800, 6,1))"
      ],
      "execution_count": null,
      "outputs": []
    },
    {
      "cell_type": "code",
      "metadata": {
        "id": "ZiBsaCvAEj58",
        "outputId": "856ce547-199d-40a2-80fc-c6f897019af8",
        "colab": {
          "base_uri": "https://localhost:8080/",
          "height": 289
        }
      },
      "source": [
        "from __future__ import print_function    \n",
        "from keras.models import Sequential\n",
        "import keras\n",
        "from keras.models import Sequential\n",
        "from keras.layers import Dense, Flatten, Conv1D\n",
        "from keras.callbacks import ModelCheckpoint\n",
        "from keras.models import model_from_json\n",
        "from keras import backend as K\n",
        "\n",
        "def precision(y_true, y_pred): #taken from old keras source code\n",
        "     true_positives = K.sum(K.round(K.clip(y_true * y_pred, 0, 1)))\n",
        "     predicted_positives = K.sum(K.round(K.clip(y_pred, 0, 1)))\n",
        "     precision = true_positives / (predicted_positives + K.epsilon())\n",
        "     return precision\n",
        "def recall(y_true, y_pred): #taken from old keras source code\n",
        "     true_positives = K.sum(K.round(K.clip(y_true * y_pred, 0, 1)))\n",
        "     possible_positives = K.sum(K.round(K.clip(y_true, 0, 1)))\n",
        "     recall = true_positives / (possible_positives + K.epsilon())\n",
        "     return recall\n",
        "def f1_score(y_true, y_pred):\n",
        "\n",
        "    # Count positive samples.\n",
        "    c1 = K.sum(K.round(K.clip(y_true * y_pred, 0, 1)))\n",
        "    c2 = K.sum(K.round(K.clip(y_pred, 0, 1)))\n",
        "    c3 = K.sum(K.round(K.clip(y_true, 0, 1)))\n",
        "\n",
        "    # If there are no true samples, fix the F1 score at 0.\n",
        "    if c3 == 0:\n",
        "        return 0\n",
        "\n",
        "    # How many selected items are relevant?\n",
        "    precision = c1 / c2\n",
        "\n",
        "    # How many relevant items are selected?\n",
        "    recall = c1 / c3\n",
        "\n",
        "    # Calculate f1_score\n",
        "    f1_score = 2 * (precision * recall) / (precision + recall)\n",
        "    return f1_score\n",
        "\n",
        "model = Sequential()\n",
        "model.add(Conv1D(32, (3), input_shape=(6,1), activation='sigmoid'))\n",
        "model.add(Flatten())\n",
        "model.add(Dense(64, activation='sigmoid'))\n",
        "model.add(Dense(num_classes, activation='sigmoid'))\n",
        "\n",
        "model.compile(loss=keras.losses.categorical_crossentropy,\n",
        "              optimizer=keras.optimizers.Adam(),\n",
        "              metrics=['accuracy'])\n",
        "\n",
        "model.summary()"
      ],
      "execution_count": null,
      "outputs": [
        {
          "output_type": "stream",
          "text": [
            "Model: \"sequential_3\"\n",
            "_________________________________________________________________\n",
            "Layer (type)                 Output Shape              Param #   \n",
            "=================================================================\n",
            "conv1d_3 (Conv1D)            (None, 4, 32)             128       \n",
            "_________________________________________________________________\n",
            "flatten_3 (Flatten)          (None, 128)               0         \n",
            "_________________________________________________________________\n",
            "dense_5 (Dense)              (None, 64)                8256      \n",
            "_________________________________________________________________\n",
            "dense_6 (Dense)              (None, 3)                 195       \n",
            "=================================================================\n",
            "Total params: 8,579\n",
            "Trainable params: 8,579\n",
            "Non-trainable params: 0\n",
            "_________________________________________________________________\n"
          ],
          "name": "stdout"
        }
      ]
    },
    {
      "cell_type": "code",
      "metadata": {
        "id": "3QiFHAw9Eu_-",
        "outputId": "5d8009e9-b90e-40d8-91b1-b62b90d40cef",
        "colab": {
          "base_uri": "https://localhost:8080/",
          "height": 204
        }
      },
      "source": [
        "batch_size = 128\n",
        "epochs = 5\n",
        "model = model.fit(x_train, y_train_binary,\n",
        "          batch_size=batch_size,\n",
        "          epochs=epochs,\n",
        "          verbose=1,\n",
        "          validation_data=(x_new, y_new_binary))"
      ],
      "execution_count": null,
      "outputs": [
        {
          "output_type": "stream",
          "text": [
            "Train on 19200 samples, validate on 6000 samples\n",
            "Epoch 1/5\n",
            "19200/19200 [==============================] - 1s 37us/step - loss: 0.6354 - acc: 0.6675 - val_loss: 0.5422 - val_acc: 0.7712\n",
            "Epoch 2/5\n",
            "19200/19200 [==============================] - 0s 19us/step - loss: 0.5039 - acc: 0.8189 - val_loss: 0.6450 - val_acc: 0.7712\n",
            "Epoch 3/5\n",
            "19200/19200 [==============================] - 0s 20us/step - loss: 0.4435 - acc: 0.8565 - val_loss: 0.6403 - val_acc: 0.7712\n",
            "Epoch 4/5\n",
            "19200/19200 [==============================] - 0s 20us/step - loss: 0.3924 - acc: 0.8612 - val_loss: 0.6411 - val_acc: 0.7712\n",
            "Epoch 5/5\n",
            "19200/19200 [==============================] - 0s 18us/step - loss: 0.3340 - acc: 0.8814 - val_loss: 0.6635 - val_acc: 0.7710\n"
          ],
          "name": "stdout"
        }
      ]
    },
    {
      "cell_type": "code",
      "metadata": {
        "id": "VZ92ikBlKA0E",
        "outputId": "3dcf6549-47b0-4fa5-f7bc-fc885e82c7e6",
        "colab": {
          "base_uri": "https://localhost:8080/",
          "height": 295
        }
      },
      "source": [
        "plt.plot(model.history['loss'])\n",
        "plt.plot(model.history['val_loss'])\n",
        "plt.title('model train vs validation loss')\n",
        "plt.ylabel('loss')\n",
        "plt.xlabel('epoch')\n",
        "plt.legend(['train', 'validation'], loc='upper right')\n",
        "plt.show()"
      ],
      "execution_count": null,
      "outputs": [
        {
          "output_type": "display_data",
          "data": {
            "image/png": "[encoded data removed]",
            "text/plain": [
              "<Figure size 432x288 with 1 Axes>"
            ]
          },
          "metadata": {
            "tags": []
          }
        }
      ]
    },
    {
      "cell_type": "code",
      "metadata": {
        "id": "qIjiZtnIBDR5",
        "outputId": "a55581d6-b178-4607-8d51-f90b6154d60d",
        "colab": {
          "base_uri": "https://localhost:8080/",
          "height": 119
        }
      },
      "source": [
        "clf.best_score_\n",
        "clf.best_estimator_\n",
        "clf.best_params_"
      ],
      "execution_count": null,
      "outputs": [
        {
          "output_type": "execute_result",
          "data": {
            "text/plain": [
              "{'activation': 'tanh',\n",
              " 'alpha': 0.05,\n",
              " 'hidden_layer_sizes': (100,),\n",
              " 'learning_rate': 'adaptive',\n",
              " 'solver': 'adam',\n",
              " 'warm_start': False}"
            ]
          },
          "metadata": {
            "tags": []
          },
          "execution_count": 233
        }
      ]
    },
    {
      "cell_type": "markdown",
      "metadata": {
        "id": "qwtWtLzaJ4cS"
      },
      "source": [
        "#Support Vector Machine"
      ]
    },
    {
      "cell_type": "code",
      "metadata": {
        "id": "VUt93ao8LSCN",
        "outputId": "8b6b3211-9d05-4443-db90-e08566980719",
        "colab": {
          "base_uri": "https://localhost:8080/",
          "height": 178
        }
      },
      "source": [
        "from sklearn.svm import SVC\n",
        "svm=SVC()\n",
        "svm.fit(X_train,y_train)\n",
        "y_pred=svm.predict(X_test)\n",
        "print(classification_report(y_pred,y_test))"
      ],
      "execution_count": null,
      "outputs": [
        {
          "output_type": "stream",
          "text": [
            "              precision    recall  f1-score   support\n",
            "\n",
            "           0       1.00      1.00      1.00      3195\n",
            "           1       1.00      1.00      1.00      1605\n",
            "\n",
            "    accuracy                           1.00      4800\n",
            "   macro avg       1.00      1.00      1.00      4800\n",
            "weighted avg       1.00      1.00      1.00      4800\n",
            "\n"
          ],
          "name": "stdout"
        }
      ]
    },
    {
      "cell_type": "code",
      "metadata": {
        "id": "5dL0W6HpLSin"
      },
      "source": [
        ""
      ],
      "execution_count": null,
      "outputs": []
    }
  ]
}